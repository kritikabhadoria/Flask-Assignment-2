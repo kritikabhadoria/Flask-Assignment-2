{
 "cells": [
  {
   "cell_type": "markdown",
   "id": "00841ced-3322-4726-9108-3fe5f854b45b",
   "metadata": {},
   "source": [
    "Q1. Explain GET and POST methods.\n",
    "\n",
    "**GET Method**:\n",
    "- The GET method is used to request data from a specified resource.\n",
    "- When a client sends a GET request, the data is appended to the URL in the form of query parameters.\n",
    "- GET requests are used for retrieving data and should not be used for operations that modify data on the server.\n",
    "\n",
    "**POST Method**:\n",
    "- The POST method is used to submit data to be processed to a specified resource.\n",
    "- When a client sends a POST request, the data is sent in the request body.\n",
    "- POST requests are commonly used for creating or updating resources on the server, such as submitting forms, uploading files, etc.\n",
    "\n",
    "Q2. Why is request used in Flask?\n",
    "\n",
    "In Flask, the `request` object is used to access incoming request data such as form data, query parameters, request headers, and files uploaded with the request. It allows Flask applications to retrieve and process data submitted by clients in HTTP requests. The `request` object provides attributes and methods to access various parts of the incoming request, making it essential for handling user input and interactions in Flask applications.\n",
    "\n",
    "Q3. Why is redirect() used in Flask?\n",
    "\n",
    "The `redirect()` function in Flask is used to redirect the client to a different URL. It is commonly used to redirect users after processing a form submission or performing some action. Redirects are often used to improve user experience by directing users to appropriate pages or notifying them of successful operations. The `redirect()` function generates an HTTP response with a 302 status code and a Location header indicating the target URL.\n",
    "\n",
    "Q4. What are templates in Flask? Why is the render_template() function used?\n",
    "\n",
    "**Templates** in Flask are HTML files with placeholders for dynamic content. They allow developers to separate the presentation logic from the application logic by defining the structure and layout of web pages separately from the Python code. Flask uses the Jinja2 template engine to render templates and inject dynamic data into them.\n",
    "\n",
    "The `render_template()` function in Flask is used to render templates by passing data from the Python code to the HTML template. It takes the name of the template file as an argument along with any additional data to be passed to the template. The `render_template()` function processes the template file, replaces placeholders with the provided data, and returns the resulting HTML content as an HTTP response.\n",
    "\n",
    "Q5. Create a simple API. Use Postman to test it. Attach the screenshot of the output in the Jupyter Notebook.\n",
    "\n",
    "```python\n",
    "from flask import Flask, jsonify\n",
    "\n",
    "app = Flask(__name__)\n",
    "\n",
    "@app.route('/api/hello', methods=['GET'])\n",
    "def hello():\n",
    "    return jsonify({'message': 'Hello, World!'})\n",
    "\n",
    "if __name__ == '__main__':\n",
    "    app.run(debug=True)\n",
    "```\n"
   ]
  },
  {
   "cell_type": "code",
   "execution_count": null,
   "id": "eef22866-cc52-4ccf-a281-8244f0a9fcee",
   "metadata": {},
   "outputs": [],
   "source": []
  }
 ],
 "metadata": {
  "kernelspec": {
   "display_name": "Python 3 (ipykernel)",
   "language": "python",
   "name": "python3"
  },
  "language_info": {
   "codemirror_mode": {
    "name": "ipython",
    "version": 3
   },
   "file_extension": ".py",
   "mimetype": "text/x-python",
   "name": "python",
   "nbconvert_exporter": "python",
   "pygments_lexer": "ipython3",
   "version": "3.10.8"
  }
 },
 "nbformat": 4,
 "nbformat_minor": 5
}
